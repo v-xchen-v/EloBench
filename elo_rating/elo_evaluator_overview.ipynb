{
 "cells": [
  {
   "cell_type": "markdown",
   "metadata": {},
   "source": [
    "# Kendall rank correlation coefficient"
   ]
  },
  {
   "cell_type": "code",
   "execution_count": 2,
   "metadata": {},
   "outputs": [],
   "source": [
    "import scipy\n",
    "import numpy as np"
   ]
  },
  {
   "cell_type": "code",
   "execution_count": 6,
   "metadata": {},
   "outputs": [
    {
     "data": {
      "text/plain": [
       "0.4666666666666666"
      ]
     },
     "execution_count": 6,
     "metadata": {},
     "output_type": "execute_result"
    }
   ],
   "source": [
    "rank1 = np.array([1, 2, 3, 4, 5, 6])\n",
    "rank2 = np.array([3, 1, 4, 2, 6, 5])\n",
    "tau, _ = scipy.stats.kendalltau(rank1, rank2)\n",
    "tau"
   ]
  },
  {
   "cell_type": "markdown",
   "metadata": {},
   "source": [
    "- 1 3\n",
    "- 2 1 - \n",
    "- 3 4 + +\n",
    "- 4 2 - + -\n",
    "- 5 6 + + + +\n",
    "- 6 5 + + + + -\n",
    "\n",
    "τ = (C-D)/(\n",
    " C+D)\n",
    "\n",
    "C = 11\n",
    "D = 4\n",
    "τ = 7/15 = 0.4666666666666666\n",
    "\n",
    "τ的取值范围是[-1, 1]\n",
    "正负表示相关的还是负相关\n",
    "|τ|表示相关程度\n",
    "\n",
    "https://www.youtube.com/watch?v=Pm8KV5f3JM0"
   ]
  }
 ],
 "metadata": {
  "kernelspec": {
   "display_name": "Python 3",
   "language": "python",
   "name": "python3"
  },
  "language_info": {
   "codemirror_mode": {
    "name": "ipython",
    "version": 3
   },
   "file_extension": ".py",
   "mimetype": "text/x-python",
   "name": "python",
   "nbconvert_exporter": "python",
   "pygments_lexer": "ipython3",
   "version": "3.9.13"
  }
 },
 "nbformat": 4,
 "nbformat_minor": 2
}
